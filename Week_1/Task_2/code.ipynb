{
 "cells": [
  {
   "cell_type": "markdown",
   "metadata": {},
   "source": [
    "# Python program for Import data from an excel file \n"
   ]
  },
  {
   "cell_type": "code",
   "execution_count": 5,
   "metadata": {},
   "outputs": [
    {
     "name": "stdout",
     "output_type": "stream",
     "text": [
      "-------------------------------\n",
      "Name\n",
      "Age\n",
      "State\n",
      "-------------------------------\n",
      "Arjun\n",
      "23\n",
      "Kerala\n",
      "-------------------------------\n",
      "Riyan\n",
      "30\n",
      "Punjab\n",
      "-------------------------------\n",
      "Sunny\n",
      "35\n",
      "Uttar pradesh\n",
      "-------------------------------\n",
      "Amar\n",
      "20\n",
      "Karnatak\n",
      "-------------------------------\n",
      "Roshan\n",
      "35\n",
      "West Bengal\n"
     ]
    }
   ],
   "source": [
    "import openpyxl\n",
    "\n",
    "# Load the workbook\n",
    "workbook = openpyxl.load_workbook('data.xlsx')\n",
    "\n",
    "# Select the active sheet\n",
    "sheet = workbook.active\n",
    "\n",
    "# Iterate through rows and columns to retrieve data\n",
    "for row in sheet.iter_rows(values_only=True):\n",
    "    print(\"-------------------------------\")\n",
    "    for cell in row:\n",
    "        print(cell)\n",
    "\n",
    "\n",
    "# Close the workbook\n",
    "workbook.close()\n"
   ]
  }
 ],
 "metadata": {
  "kernelspec": {
   "display_name": "base",
   "language": "python",
   "name": "python3"
  },
  "language_info": {
   "codemirror_mode": {
    "name": "ipython",
    "version": 3
   },
   "file_extension": ".py",
   "mimetype": "text/x-python",
   "name": "python",
   "nbconvert_exporter": "python",
   "pygments_lexer": "ipython3",
   "version": "3.9.12"
  },
  "orig_nbformat": 4
 },
 "nbformat": 4,
 "nbformat_minor": 2
}
