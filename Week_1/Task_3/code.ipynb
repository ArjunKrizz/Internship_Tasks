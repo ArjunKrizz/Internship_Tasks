{
 "cells": [
  {
   "cell_type": "markdown",
   "metadata": {},
   "source": [
    "# Python program for Format data in excel sheet"
   ]
  },
  {
   "cell_type": "code",
   "execution_count": 1,
   "metadata": {},
   "outputs": [],
   "source": [
    "#Loading libraries\n",
    "import openpyxl\n",
    "from openpyxl.styles import Font, Alignment\n",
    "\n",
    "# Load the workbook\n",
    "workbook = openpyxl.load_workbook('Data.xlsx')\n",
    "\n",
    "# Select the active sheet\n",
    "sheet = workbook.active\n",
    "\n",
    "# Format the header row\n",
    "header_font = Font(bold=True)\n",
    "header_alignment = Alignment(horizontal='center')\n",
    "\n",
    "for cell in sheet[1]:\n",
    "    cell.font = header_font\n",
    "    cell.alignment = header_alignment\n",
    "\n",
    "# Format the data cells\n",
    "data_font = Font(italic=True)\n",
    "data_alignment = Alignment(horizontal='left')\n",
    "\n",
    "for row in sheet.iter_rows(min_row=2):\n",
    "    for cell in row:\n",
    "        cell.font = data_font\n",
    "        cell.alignment = data_alignment\n",
    "\n",
    "# Save the modified workbook\n",
    "workbook.save('formatted_Data.xlsx')\n",
    "\n",
    "# Close the workbook\n",
    "workbook.close()"
   ]
  }
 ],
 "metadata": {
  "kernelspec": {
   "display_name": "base",
   "language": "python",
   "name": "python3"
  },
  "language_info": {
   "codemirror_mode": {
    "name": "ipython",
    "version": 3
   },
   "file_extension": ".py",
   "mimetype": "text/x-python",
   "name": "python",
   "nbconvert_exporter": "python",
   "pygments_lexer": "ipython3",
   "version": "3.9.12"
  },
  "orig_nbformat": 4
 },
 "nbformat": 4,
 "nbformat_minor": 2
}
