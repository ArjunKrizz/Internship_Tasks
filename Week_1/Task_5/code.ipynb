{
 "cells": [
  {
   "cell_type": "code",
   "execution_count": null,
   "metadata": {},
   "outputs": [],
   "source": []
  },
  {
   "cell_type": "code",
   "execution_count": 1,
   "metadata": {},
   "outputs": [],
   "source": [
    "#loading libraries\n",
    "import os\n",
    "import json\n",
    "import re\n",
    "import xml.etree.ElementTree as ET\n",
    "from docx import Document\n",
    "import pandas as pd\n",
    "import PyPDF2\n"
   ]
  },
  {
   "cell_type": "code",
   "execution_count": null,
   "metadata": {},
   "outputs": [],
   "source": [
    "\n",
    "# Function to extract mobile numbers from text using regular expression\n",
    "def extract_mobile_numbers(text):\n",
    "    pattern = r\"\\b(?:\\+?(\\d{1,3}))?[-. (]*(\\d{3})[-. )]*(\\d{3})[-. ]*(\\d{4})\\b\"\n",
    "    mobile_numbers = re.findall(pattern, text)\n",
    "    return [''.join(number) for number in mobile_numbers]\n",
    "\n",
    "# Function to extract mobile numbers from PDF\n",
    "def extract_mobile_numbers_from_pdf(file_path):\n",
    "    with open(file_path, 'rb') as f:\n",
    "        reader = PyPDF2.PdfReader(f)\n",
    "        text = \"\"\n",
    "        for page in reader.pages:\n",
    "            text += page.extract_text()\n",
    "    mobile_numbers = extract_mobile_numbers(text)\n",
    "    return mobile_numbers\n",
    "\n",
    "# Function to extract mobile numbers from JSON\n",
    "def extract_mobile_numbers_from_json(file_path):\n",
    "    with open(file_path, 'r') as f:\n",
    "        data = json.load(f)\n",
    "    text = json.dumps(data)\n",
    "    mobile_numbers = extract_mobile_numbers(text)\n",
    "    return mobile_numbers\n",
    "\n",
    "# Function to extract mobile numbers from XML\n",
    "def extract_mobile_numbers_from_xml(file_path):\n",
    "    tree = ET.parse(file_path)\n",
    "    root = tree.getroot()\n",
    "    text = ET.tostring(root, encoding='unicode')\n",
    "    mobile_numbers = extract_mobile_numbers(text)\n",
    "    return mobile_numbers\n",
    "\n",
    "# Function to extract mobile numbers from MS Word\n",
    "def extract_mobile_numbers_from_word(file_path):\n",
    "    doc = Document(file_path)\n",
    "    text = ' '.join([paragraph.text for paragraph in doc.paragraphs])\n",
    "    mobile_numbers = extract_mobile_numbers(text)\n",
    "    return mobile_numbers\n",
    "\n",
    "# Function to save mobile numbers to an MS Excel file\n",
    "def save_mobile_numbers_to_excel(mobile_numbers, output_file):\n",
    "    df = pd.DataFrame({'Mobile Number': mobile_numbers})\n",
    "    df.to_excel(output_file, index=False)\n"
   ]
  },
  {
   "cell_type": "code",
   "execution_count": null,
   "metadata": {},
   "outputs": [],
   "source": [
    "\n",
    "# Directory path containing the files\n",
    "directory_path = r\"C:\\Users\\ARJUN\\Music\\java\\contact data\"\n",
    "\n",
    "# Extracted mobile numbers\n",
    "mobile_numbers = []\n",
    "\n",
    "# Iterate through files in the directory\n",
    "for root, dirs, files in os.walk(directory_path):\n",
    "    for file_name in files:\n",
    "        file_path = os.path.join(root, file_name)\n",
    "\n",
    "        # Extract mobile numbers based on file type\n",
    "        if file_name.endswith('.pdf'):\n",
    "            mobile_numbers.extend(extract_mobile_numbers_from_pdf(file_path))\n",
    "        elif file_name.endswith('.json'):\n",
    "            mobile_numbers.extend(extract_mobile_numbers_from_json(file_path))\n",
    "        elif file_name.endswith('.xml'):\n",
    "            mobile_numbers.extend(extract_mobile_numbers_from_xml(file_path))\n",
    "        elif file_name.endswith('.docx'):\n",
    "            mobile_numbers.extend(extract_mobile_numbers_from_word(file_path))\n",
    "\n",
    "# Save mobile numbers to an MS Excel file\n",
    "excel_file_path = 'mobile_numbers.xlsx'\n",
    "save_mobile_numbers_to_excel(mobile_numbers, excel_file_path)"
   ]
  }
 ],
 "metadata": {
  "kernelspec": {
   "display_name": "Python 3",
   "language": "python",
   "name": "python3"
  },
  "language_info": {
   "codemirror_mode": {
    "name": "ipython",
    "version": 3
   },
   "file_extension": ".py",
   "mimetype": "text/x-python",
   "name": "python",
   "nbconvert_exporter": "python",
   "pygments_lexer": "ipython3",
   "version": "3.9.12"
  },
  "orig_nbformat": 4
 },
 "nbformat": 4,
 "nbformat_minor": 2
}
