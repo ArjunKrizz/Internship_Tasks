{
 "cells": [
  {
   "cell_type": "markdown",
   "metadata": {},
   "source": [
    "\n",
    "#  Python program to Create a excel file"
   ]
  },
  {
   "cell_type": "code",
   "execution_count": 2,
   "metadata": {},
   "outputs": [
    {
     "name": "stdout",
     "output_type": "stream",
     "text": [
      "Excel file created\n"
     ]
    }
   ],
   "source": [
    " #loading library\n",
    "import openpyxl\n",
    "\n",
    "# Create a new workbook\n",
    "workbook = openpyxl.Workbook()\n",
    "\n",
    "# Get the active sheet\n",
    "sheet = workbook.active\n",
    "\n",
    "# Add data to the sheet\n",
    "sheet['A1'] = 'Name'\n",
    "sheet['B1'] = 'Age'\n",
    "sheet['C1'] = 'State'\n",
    "\n",
    "data = [\n",
    "    ('Arjun', 23, 'Kerala'),\n",
    "    ('Riyan', 30, 'Punjab'),\n",
    "    ('Sunny', 35, 'Uttar pradesh'),\n",
    "    ('Amar', 20, 'Karnatak'),\n",
    "    ('Roshan', 35, 'West Bengal')\n",
    "]\n",
    "\n",
    "for row in data:\n",
    "    sheet.append(row)\n",
    "\n",
    "# Save the workbook\n",
    "workbook.save('Data.xlsx')\n",
    "\n",
    "print(\"Excel file created\")"
   ]
  }
 ],
 "metadata": {
  "kernelspec": {
   "display_name": "base",
   "language": "python",
   "name": "python3"
  },
  "language_info": {
   "codemirror_mode": {
    "name": "ipython",
    "version": 3
   },
   "file_extension": ".py",
   "mimetype": "text/x-python",
   "name": "python",
   "nbconvert_exporter": "python",
   "pygments_lexer": "ipython3",
   "version": "3.9.12"
  },
  "orig_nbformat": 4
 },
 "nbformat": 4,
 "nbformat_minor": 2
}
